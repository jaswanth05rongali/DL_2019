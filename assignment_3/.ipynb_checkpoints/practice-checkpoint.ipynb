{
 "cells": [
  {
   "cell_type": "code",
   "execution_count": 39,
   "metadata": {},
   "outputs": [
    {
     "name": "stdout",
     "output_type": "stream",
     "text": [
      "Yesterday the #Democrats cried #FamiliesBelongTogther. Today, they’re over that &amp; now they don’t want anyone who broke the law 2 be detained. #WakeUpAmerica, their want #OpenBorders. The @POTUS can cure cancer and they’d cry pro cancer cells. #LiberalismIsAMentalDisorder #VoteRed https://t.co/22TUxg3IWR\n",
      "['Yesterday', 'the', 'Democrats', 'cried', 'FamiliesBelongTogther', '.', 'Today', ',', 'they', '’', 're', 'over', 'that', '&', 'amp', ';', 'now', 'they', 'don', '’', 't', 'want', 'anyone', 'who', 'broke', 'the', 'law', 'be', 'detained', '.', 'WakeUpAmerica', ',', 'their', 'want', 'OpenBorders', '.', 'The', '__Mention__', 'can', 'cure', 'cancer', 'and', 'they', '’', 'd', 'cry', 'pro', 'cancer', 'cells', '.', 'LiberalismIsAMentalDisorder', 'VoteRed', '__URL__']\n",
      "As people’s anger boils over in the streets there are talks that the Rouhani government should resign. But you do not cure cancer with an aspirin. The tumor needs to be removed- - and tumor is IRI and the surgeons are the people.\n",
      "['As', 'people', '’', 's', 'anger', 'boils', 'over', 'in', 'the', 'streets', 'there', 'are', 'talks', 'that', 'the', 'Rouhani', 'government', 'should', 'resign', '.', 'But', 'you', 'do', 'not', 'cure', 'cancer', 'with', 'an', 'aspirin', '.', 'The', 'tumor', 'needs', 'to', 'be', 'removed-', '-', 'and', 'tumor', 'is', 'IRI', 'and', 'the', 'surgeons', 'are', 'the', 'people', '.']\n"
     ]
    }
   ],
   "source": [
    "import nltk\n",
    "import re\n",
    "import numpy\n",
    "import mxnet as mx\n",
    "import sys, os\n",
    "\n",
    "from nltk.tokenize import word_tokenize\n",
    "\n",
    "file=open('cancer_data.tsv')\n",
    "pos_data=[]\n",
    "neg_data=[]\n",
    "\n",
    "i = 0\n",
    "for line in file:\n",
    "    line=line.strip().split('\\t')\n",
    "    if i >= 9:\n",
    "        print(line[0])\n",
    "    text = re.sub(r'https?://[A-Za-z0-9./]+','__URL__',line[0])\n",
    "    text = re.sub(r'@[A-Za-z0-9]+','__Mention__',text)\n",
    "    text = re.sub(r'RT','',text)\n",
    "    text = re.sub(r'#([^\\s]+)', r'\\1', text)\n",
    "    text = re.sub(r'(?:(?:\\d+,?)+(?:\\.?\\d+)?)','',text)\n",
    "    if i >= 9:\n",
    "        print(text)\n",
    "    i += 1\n",
    "    if i == 11:\n",
    "        break"
   ]
  },
  {
   "cell_type": "code",
   "execution_count": null,
   "metadata": {},
   "outputs": [],
   "source": []
  },
  {
   "cell_type": "code",
   "execution_count": null,
   "metadata": {},
   "outputs": [],
   "source": []
  }
 ],
 "metadata": {
  "kernelspec": {
   "display_name": "Python 3",
   "language": "python",
   "name": "python3"
  },
  "language_info": {
   "codemirror_mode": {
    "name": "ipython",
    "version": 3
   },
   "file_extension": ".py",
   "mimetype": "text/x-python",
   "name": "python",
   "nbconvert_exporter": "python",
   "pygments_lexer": "ipython3",
   "version": "3.6.8"
  }
 },
 "nbformat": 4,
 "nbformat_minor": 2
}
